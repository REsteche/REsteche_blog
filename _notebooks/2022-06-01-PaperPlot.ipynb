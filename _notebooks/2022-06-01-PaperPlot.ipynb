{
 "cells": [
  {
   "cell_type": "markdown",
   "id": "6ca925dc",
   "metadata": {},
   "source": [
    "# \"How to make plots for scientific publications in python?\"\n",
    "> \"The main purpose of this post is to present a practical example of how to improve the design of a graphic for an article. Here I intend to provide a practical example as well as a structure to be followed in several cases.\"\n",
    "\n",
    "- toc: true\n",
    "- branch: master\n",
    "- badges: true\n",
    "- comments: true\n",
    "- categories: [Plots, Python, Scientific Publication, Tutotial]\n"
   ]
  },
  {
   "cell_type": "markdown",
   "id": "c977742c",
   "metadata": {},
   "source": [
    "In The following post I want to share a tutorial covering the \"basic\" plotting tools to make a publication quality plot. We are going through the following steps:\n",
    "\n",
    "* load some data and make the simplest plot. \n",
    "* Identify the differences between simple and not-so-simple plot\n",
    "* Change the graph step by step.\n",
    "\n",
    "We shall start by preparing some of the libraries required for now:"
   ]
  },
  {
   "cell_type": "code",
   "execution_count": 1,
   "id": "35b73f34",
   "metadata": {},
   "outputs": [],
   "source": [
    "%matplotlib inline                        \n",
    "from numpy import loadtxt, sqrt, array    #Some mathematical functions\n",
    "\n",
    "import matplotlib.pyplot as plt           #For plotting\n",
    "from matplotlib import rc                 #To alter the defaults of plots       \n",
    "from IPython import display               #A helper to display figures that are being updated"
   ]
  },
  {
   "cell_type": "markdown",
   "id": "6c42f837",
   "metadata": {},
   "source": [
    "## Simplest plot\n",
    "\n",
    "First, we will address the fundamental principles for our work of plots in scientific works. The first step concerns generating the data to be plotted in question, which can vary greatly from survey to survey, or opening different file formats to make your data viewable.\n",
    "\n",
    "In order to make our tutorial broader, I will consider the second case here (open a file with our information) as it is more general and as far as generating data for your research is concerned, I don't see how a tutorial can be very generalizable\n",
    "\n",
    "The following code obtains data from a `.csv` file and plots it in the simplest way one can imagine. Notice you can uncomment the penultimate line to save an image of the plot locally."
   ]
  },
  {
   "cell_type": "code",
   "execution_count": 2,
   "id": "17b5ee70",
   "metadata": {},
   "outputs": [
    {
     "data": {
      "image/png": "[encoded data removed]",
      "text/plain": [
       "<Figure size 432x288 with 1 Axes>"
      ]
     },
     "metadata": {
      "needs_background": "light"
     },
     "output_type": "display_data"
    }
   ],
   "source": [
    "# Load the data:\n",
    "# (see help(loadtxt) or scipy.org )\n",
    "data = loadtxt('datag2.csv', delimiter=',')\n",
    "\n",
    "#The first column of the file is the time in seconds\n",
    "#The second column of the file is the autocorrelation function\n",
    "datax = data[:,0]*1e6    \n",
    "datay = data[:,1]\n",
    "\n",
    "############## PLOT ###############\n",
    "plt.plot(datax,datay)\n",
    "#plt.savefig('images/simplefig.png',dpi=600) #in case you want to save this plot, uncomment this line\n",
    "plt.show()"
   ]
  },
  {
   "cell_type": "markdown",
   "id": "7a99cb5b",
   "metadata": {},
   "source": [
    "The plot above represents the autocorrelation function of the detected counts produced by a 1us long square pulse measured by a single-photon avalanche photodiode (SPAD).\n",
    "\n",
    "It is a bad plot because:\n",
    "* it is incomplete\n",
    "* full of unnecessary information\n",
    "* does not show clearly important information\n",
    "\n",
    "By those alegations, I meant: to simplify, the graph does not have a title, legend on its axes, scale information and is not even presented in an interesting range for your analysis. \n",
    "\n",
    "Note that just by changing some of these properties mentioned above we can already observe notable differences:"
   ]
  },
  {
   "cell_type": "code",
   "execution_count": 14,
   "id": "3976aa1d",
   "metadata": {},
   "outputs": [
    {
     "data": {
      "image/png": "[encoded data removed]",
      "text/plain": [
       "<Figure size 432x288 with 1 Axes>"
      ]
     },
     "metadata": {
      "needs_background": "light"
     },
     "output_type": "display_data"
    }
   ],
   "source": [
    "# Load the data:\n",
    "# (see help(loadtxt) or scipy.org )\n",
    "data = loadtxt('datag2.csv', delimiter=',')\n",
    "\n",
    "#define axes\n",
    "datax = data[:,0]*1e6    \n",
    "datay = data[:,1]\n",
    "\n",
    "############## PLOT ###############\n",
    "\n",
    "plt.plot(datax,datay,label = 'data samples', linewidth=0.5)\n",
    "plt.ylabel('autocorrelation function')\n",
    "plt.xlabel('$t(s)$') \n",
    "plt.legend()\n",
    "plt.show()"
   ]
  },
  {
   "cell_type": "markdown",
   "id": "9713281e",
   "metadata": {},
   "source": [
    "Now, for the next section we are going to dive further in the details of that plot."
   ]
  },
  {
   "cell_type": "markdown",
   "id": "a5c29f13",
   "metadata": {},
   "source": [
    "## Identify things to change\n",
    "In the following picture, the graph on the left shows the simplest graph. On the right hand side, a better graph (*alla Jean-Luc Doumont*). \n",
    "\n",
    "![](posts_images/comparison1.png)\n",
    "\n",
    "\n",
    "In the figure on the right we have removed the data outside the region of interest. We have also shown an inset that clearly depicts the central feature of the data (the dead-time of the detector). Finally, we have added labels and changed the size/style of the font to be more \"publication like\"\n",
    "\n",
    "To obtain the figure of the right, first we need to think/know what we want to change, and then change it.\n",
    "\n",
    "Some of the differences are:\n",
    "- Axes: limits, ticks, format\n",
    "- Labels\n",
    "- Colour\n",
    "- Inset\n",
    "\n",
    "A plot, in python, is an object. The axes are objects. The lines are objects. Understanding which member functions alter which characteristics of each of the objects is the key to being able to use python for publication-quality plotting. You don't need to learn these by heart: all the information can be found at [matplotlib documentation](https://matplotlib.org/)\n",
    "\n",
    "![](posts_images/comparison2.png)\n"
   ]
  },
  {
   "cell_type": "markdown",
   "id": "111e0fd4",
   "metadata": {},
   "source": [
    "##  Constructing the figure\n",
    "\n",
    "To construct the figure, firstly we will need to:\n",
    "\n",
    "- Define style constants, so that the labels and ticks are plotted with the right fonts\n",
    "- Create a figure object\n",
    "- Create axis in the figure (add_subplot)\n",
    "- Plot the data in the figure object\n",
    "- Format the spines of the figure"
   ]
  },
  {
   "cell_type": "code",
   "execution_count": null,
   "id": "3c9d4b09",
   "metadata": {},
   "outputs": [],
   "source": [
    "## - Change figure size and alter the fonts\n",
    "\n",
    "# Graph \n",
    "golden_mean = (sqrt(5)-1.0)/2.0         # Aesthetic ratio\n",
    "fig_width = 4                           # width in inches\n",
    "fig_height = fig_width*golden_mean      # height in inches (4.5 for two vertical figures?)\n",
    "fig_size = [fig_width,fig_height]\n",
    "\n",
    "# Define format parameters\n",
    "paramsscreen = {'backend': 'ps',\n",
    "          'font.family':'serif',\n",
    "          'axes.labelsize': 15,\n",
    "           'legend.fontsize': 15,\n",
    "           'xtick.labelsize': 12,\n",
    "           'ytick.labelsize': 12,\n",
    "           'figure.figsize': array(fig_size)}\n",
    "\n",
    "paramsprint = {'backend': 'ps',\n",
    "          'font.family':'serif',\n",
    "          'axes.labelsize': 10,\n",
    "           'legend.fontsize': 10,\n",
    "           'xtick.labelsize': 8,\n",
    "           'ytick.labelsize': 8,\n",
    "           'figure.figsize': fig_size}\n",
    "\n",
    "\n",
    "plt.rcParams.update(paramsscreen)\n",
    "\n",
    "lightblue='#91B8BD'     # The colour used in the plot\n",
    "\n",
    "\n",
    "## - Create figure object\n",
    "fig=plt.figure() \n",
    "\n",
    "## - Create axis\n",
    "bx=fig.add_subplot(111)\n",
    "\n",
    "## - Plot in axis\n",
    "bx.plot(datax,datay,'-',color =lightblue,lw=1)"
   ]
  },
  {
   "cell_type": "markdown",
   "id": "37549b93",
   "metadata": {},
   "source": [
    "![image-2.png](posts_images/plt1.png) "
   ]
  },
  {
   "cell_type": "code",
   "execution_count": null,
   "id": "f293e8dc",
   "metadata": {},
   "outputs": [],
   "source": [
    "## Format the spines:\n",
    "## - Remove upper and right spines\n",
    "## - Remove unused ticks\n",
    "## - Change limits of the plot and of the spines\n",
    "\n",
    "# Spine formatting\n",
    "labely=-0.2\n",
    "bx.spines['left'].set_position(('outward',10))\n",
    "bx.spines['bottom'].set_position(('outward',10))\n",
    "bx.spines['top'].set_color('none')\n",
    "bx.spines['right'].set_color('none')\n",
    "\n",
    "# Even if the spines are removed from the top and right, the \"ticks\" are still present.\n",
    "# To remove them:\n",
    "bx.xaxis.set_ticks_position('bottom')\n",
    "bx.yaxis.set_ticks_position('left')\n",
    "\n",
    "# Change Y-Axis limits and format\n",
    "bx.set_ylim([0,3000])\n",
    "bx.set_yticks((0,1000,2000,3000))\n",
    "bx.spines['left'].set_bounds(0,3000)   # Take the spine out, \"alla Jean-Luc\"\n",
    "\n",
    "# Change X-Axis limits and format\n",
    "bx.set_xlim(-1.05,1.05)                # The limit is set slightly over 1 for \"artistic\" purposes\n",
    "bx.spines['bottom'].set_bounds(-1,1)\n",
    "bx.set_xticks((-1,0,1))                # ... but we limit the spine to 1\n",
    "display.display(fig)"
   ]
  },
  {
   "cell_type": "markdown",
   "id": "9d8f658b",
   "metadata": {},
   "source": [
    "![image3.png](posts_images/plt2.png)"
   ]
  },
  {
   "cell_type": "code",
   "execution_count": null,
   "id": "5bd86221",
   "metadata": {},
   "outputs": [],
   "source": [
    "# - Add Labels (note that it supports Latex formatting).\n",
    "# If we require escape characters, we use \"r\" before the string\n",
    "yLab = '$G^{(2)}$'             \n",
    "xLab = r'$\\tau\\,\\mbox{( }\\mu\\mbox{s)} '   \n",
    "\n",
    "bx.set_xlabel(xLab)\n",
    "bx.set_ylabel(yLab)\n",
    "\n",
    "display.display(fig)"
   ]
  },
  {
   "cell_type": "markdown",
   "id": "130ba42a",
   "metadata": {},
   "source": [
    "![image4.png](posts_images/plt3.png)"
   ]
  },
  {
   "cell_type": "markdown",
   "id": "10fc77b5",
   "metadata": {},
   "source": [
    "## Adding an inset\n",
    "\n",
    "After we have created the main plot by removing the least important information and formatting a little to make it the most aesthetics as possible, we are now able to create an inset for the figure, as shown in the inline example. \n",
    "\n",
    "* Create the axis that contain the inset.\n",
    "* Plot the data of interest\n",
    "* Format the spines (in the same way that we did before)\n",
    "\n",
    "To format the axis in the inset we use an analogous procedure, but this time we refer to the inset axis instead of the figure one."
   ]
  },
  {
   "cell_type": "code",
   "execution_count": null,
   "id": "b1e27d3d",
   "metadata": {},
   "outputs": [],
   "source": [
    "## - Plot inset:\n",
    "## Requires location of the axis (as a percentage of the window)\n",
    "\n",
    "######### INSET\n",
    "inset = fig.add_axes((0.65, 0.6, 0.3, 0.3))     # (left, bottom, width, height)\n",
    "\n",
    "inset.plot(datax,datay,'-',color =lightblue,lw=1)\n",
    "\n",
    "## AXIS FORMATTING for the inset (analogous to the one before)\n",
    "inset.spines['left'].set_color('none')\n",
    "inset.spines['bottom'].set_position(('outward',10))\n",
    "inset.spines['top'].set_color('none')\n",
    "inset.spines['right'].set_color('none')\n",
    "inset.xaxis.set_ticks_position('bottom')\n",
    "inset.yaxis.set_ticks_position('left')\n",
    "\n",
    "inset.set_yticks([])     #To avoid showing the vertical ticks.\n",
    "inset.set_xlim(-0.06,0.06)\n",
    "inset.set_xticks((0,28e-3))\n",
    "inset.set_xticklabels([\"0\",r\"$28\\,\\mbox{ns}$\"])\n",
    "inset.spines['bottom'].set_bounds(0,0.028)\n",
    "\n",
    "\n",
    "plt.savefig('images/fancyfig.png',dpi=600)  # Changed puke '-' to '-.'\n",
    "display.display(fig)"
   ]
  },
  {
   "cell_type": "markdown",
   "id": "c9517276",
   "metadata": {},
   "source": [
    "![image5.png](posts_images/plt4.png)"
   ]
  },
  {
   "cell_type": "markdown",
   "id": "45bf1faa",
   "metadata": {},
   "source": [
    "## And that's all, folks!\n",
    "\n",
    "I hope you like this tutorial! We now have created our first non-trivial plot using matplotlib, and (I hope) we are now able to produce several others in the context of our own research.\n",
    "\n",
    "If you want, you can try changing the parameters, adding different lines to each of the plots, changing the position and size of the inset... \n",
    "\n",
    "\n",
    "For more details and information, as well as sugestions, feel free to contact me in one of my emails available in my github or personal website! "
   ]
  }
 ],
 "metadata": {
  "kernelspec": {
   "display_name": "Python 3 (ipykernel)",
   "language": "python",
   "name": "python3"
  },
  "language_info": {
   "codemirror_mode": {
    "name": "ipython",
    "version": 3
   },
   "file_extension": ".py",
   "mimetype": "text/x-python",
   "name": "python",
   "nbconvert_exporter": "python",
   "pygments_lexer": "ipython3",
   "version": "3.8.8"
  }
 },
 "nbformat": 4,
 "nbformat_minor": 5
}
