{
 "cells": [
  {
   "cell_type": "markdown",
   "id": "92788e5c-57fb-4012-b0da-5d7bfe697824",
   "metadata": {},
   "source": [
    "# Using Machine Learning principles to predict cryptocurrency prices\n",
    "> \"Another attempt to further explore Pytorch's possibilities for data science. This time, let's enter the world of crypto-businesses!\"\n",
    "\n",
    "- toc:true\n",
    "- branch: master\n",
    "- badges: true\n",
    "- comments: true\n",
    "- categories: [Deep Learning, Pytorch, Data Science, Neural Network, Crypto]"
   ]
  },
  {
   "cell_type": "markdown",
   "id": "b3d98907-910e-48ad-b7a9-7dfe125fec5e",
   "metadata": {},
   "source": [
    "## Introduction"
   ]
  },
  {
   "cell_type": "markdown",
   "id": "86431872-d5ad-4d26-be05-11201a76b741",
   "metadata": {},
   "source": [
    "Cryptocurrency is a digital currency designed to work as a medium of exchange through a computer network (usually through a blockchain, but we'll talk about that later) that is not reliant on any central authority, such as a government or bank, to uphold or maintain it. The main idea is to have a currency/business medium that works in a encrypted and decentralized way. Many people use cryptocurrencies as a form of investing because it gives great returns even in a short period,among the popular cryptocurrencies today we have Bitcoin, Ethereum, and Binance Coin, as the best known examples. "
   ]
  },
  {
   "cell_type": "markdown",
   "id": "5e0df4ed-528a-40e5-9c3d-8ec6f9447a00",
   "metadata": {},
   "source": [
    "Our main goal in this notebook project will be to use machine learning principles to predict  the price of cryptocurrencies based on a deep analysis of an external and independent database, which is one of the popular case studies in the data science community. The prices of stocks and cryptocurrencies don’t just depend on the number of people who buy or sell them. Today, the change in the prices of these investments also depends on the changes in the financial policies of the government regarding any cryptocurrency. The feelings of people towards a particular cryptocurrency or personality who directly or indirectly endorse a cryptocurrency also result in a huge buying and selling of a particular cryptocurrency, resulting in a change in prices. "
   ]
  },
  {
   "cell_type": "markdown",
   "id": "ecb17438-f731-4173-bb12-70fed93d2410",
   "metadata": {},
   "source": [
    "In short, buying and selling result in a change in the price of any cryptocurrency, but buying and selling trends depend on many factors. Using machine learning for cryptocurrency price prediction can only work in situations where prices change due to historical prices that people see before buying and selling their cryptocurrency. Here, let's see how you can predict the bitcoin prices (which is one of the most popular cryptocurrencies) for the next 30 days."
   ]
  },
  {
   "cell_type": "markdown",
   "id": "5507a2f6-dc75-4dab-ac94-723912f7ef3e",
   "metadata": {
    "tags": []
   },
   "source": [
    "## Data collect"
   ]
  },
  {
   "cell_type": "markdown",
   "id": "d8bb2218-8ff6-4119-b2af-d2b9a763a961",
   "metadata": {},
   "source": [
    "We will start the task of Cryptocurrency price prediction by importing the necessary Python libraries and the dataset we need. For this task, lets collect the latest Bitcoin prices data from [Yahoo Finance](https://finance.yahoo.com/), using the latest [yfinance API](https://pypi.org/project/yfinance/0.1.70/). For that, you can proceed by using the following `pip` comand"
   ]
  },
  {
   "cell_type": "markdown",
   "id": "05dcd9d2-e846-4798-ba5d-c22989c14316",
   "metadata": {},
   "source": [
    "> pip install yfinance==0.1.70"
   ]
  },
  {
   "cell_type": "markdown",
   "id": "08f79a7d-fb78-4274-8f57-92586fd1c6bc",
   "metadata": {},
   "source": [
    "To help you collect the latest data each time you run this code, you can run the following commands and print the head of the table data to visualize if everything is working properly "
   ]
  },
  {
   "cell_type": "code",
   "execution_count": 2,
   "id": "61c9100e-9a2d-4d61-96a8-0618745c1f62",
   "metadata": {},
   "outputs": [
    {
     "name": "stdout",
     "output_type": "stream",
     "text": [
      "        Date         Open         High          Low        Close    Adj Close  \\\n",
      "0 2020-04-21  6879.784180  6934.551758  6834.442383  6880.323242  6880.323242   \n",
      "1 2020-04-22  6879.440430  7145.865723  6867.781738  7117.207520  7117.207520   \n",
      "2 2020-04-23  7121.306152  7491.785156  7081.594727  7429.724609  7429.724609   \n",
      "3 2020-04-24  7434.181641  7574.195801  7434.181641  7550.900879  7550.900879   \n",
      "4 2020-04-25  7550.482910  7641.363770  7521.672363  7569.936035  7569.936035   \n",
      "\n",
      "        Volume  \n",
      "0  32589741511  \n",
      "1  33249153866  \n",
      "2  43500782316  \n",
      "3  34636526286  \n",
      "4  32941541447  \n"
     ]
    }
   ],
   "source": [
    "import pandas as pd\n",
    "import yfinance as yf\n",
    "import datetime\n",
    "from datetime import date, timedelta\n",
    "today = date.today()\n",
    "\n",
    "d1 = today.strftime(\"%Y-%m-%d\")\n",
    "end_date = d1\n",
    "d2 = date.today() - timedelta(days=730)\n",
    "d2 = d2.strftime(\"%Y-%m-%d\")\n",
    "start_date = d2\n",
    "\n",
    "data = yf.download('BTC-USD', start=start_date, end=end_date, progress=False)\n",
    "data[\"Date\"] = data.index\n",
    "data = data[[\"Date\", \"Open\", \"High\", \"Low\", \"Close\", \"Adj Close\", \"Volume\"]]\n",
    "data.reset_index(drop=True, inplace=True)\n",
    "\n",
    "print(data.head())"
   ]
  },
  {
   "cell_type": "markdown",
   "id": "575cfcbb-38b3-43bd-b1c8-b6b65161a814",
   "metadata": {},
   "source": [
    "There, we have collected the latest data of Bitcoin prices for the past 730 days, and then prepared it for any data science task. Now, let’s have a look at the shape of this dataset to see if we are working with 730 rows or not:"
   ]
  },
  {
   "cell_type": "code",
   "execution_count": 3,
   "id": "6ddf667a-c2c6-4967-9653-8bb16c7f2859",
   "metadata": {},
   "outputs": [
    {
     "data": {
      "text/plain": [
       "(731, 7)"
      ]
     },
     "execution_count": 3,
     "metadata": {},
     "output_type": "execute_result"
    }
   ],
   "source": [
    "data.shape"
   ]
  },
  {
   "cell_type": "markdown",
   "id": "caa1df8d-559b-4729-b022-04119e084878",
   "metadata": {},
   "source": [
    "So the dataset contains 731 rows, where the first row contains the names of each column. Now let’s visualize the change in bitcoin prices till today by using a candlestick chart provided by the [plotly](https://plotly.com/) pyhton library ( which again can be installed in case you don't use it yet by `pip install plotly` )"
   ]
  },
  {
   "cell_type": "code",
   "execution_count": null,
   "id": "166f22b3-e3ba-4c56-888a-10b89210300c",
   "metadata": {
    "scrolled": true
   },
   "outputs": [],
   "source": [
    "import plotly.graph_objects as go\n",
    "figure = go.Figure(data=[go.Candlestick(x=data[\"Date\"],\n",
    "                                        open=data[\"Open\"], \n",
    "                                        high=data[\"High\"],\n",
    "                                        low=data[\"Low\"], \n",
    "                                        close=data[\"Close\"])])\n",
    "figure.update_layout(title = \"Bitcoin Price Analysis\", \n",
    "                     xaxis_rangeslider_visible=False)\n",
    "figure.show()"
   ]
  },
  {
   "cell_type": "markdown",
   "id": "b9a3b83e-bc28-4708-84c9-850d8ef10d1f",
   "metadata": {},
   "source": [
    "![](posts_images/newplot.png)\n",
    "\n",
    "In case this plot doesn't render in the blog, you can view it in detail in my github later! So, the Close column in the dataset contains the values we need to predict. So, let’s have a look at the correlation of all the columns in the data concerning the Close column "
   ]
  },
  {
   "cell_type": "code",
   "execution_count": 5,
   "id": "7e438760-f0c1-4f94-9fb0-86b7755abe96",
   "metadata": {},
   "outputs": [
    {
     "name": "stdout",
     "output_type": "stream",
     "text": [
      "Close        1.000000\n",
      "Adj Close    1.000000\n",
      "High         0.998517\n",
      "Low          0.998208\n",
      "Open         0.996582\n",
      "Volume       0.280780\n",
      "Name: Close, dtype: float64\n"
     ]
    }
   ],
   "source": [
    "correlation = data.corr()\n",
    "print(correlation[\"Close\"].sort_values(ascending=False))"
   ]
  },
  {
   "cell_type": "markdown",
   "id": "91bcbb4b-5e6a-4290-b41c-68b3d2c53a27",
   "metadata": {
    "tags": []
   },
   "source": [
    "## The Price Prediction Model"
   ]
  },
  {
   "cell_type": "markdown",
   "id": "414875e5-5172-4201-9199-ec726b0643f6",
   "metadata": {},
   "source": [
    "To predict the behavior of such a sensitive system using only previous statistical data, we need a mathematical model that is efficient and robust enough to convey confidence in our results. For our analysis in question, the future prices of cryptocurrency can be based on the problem of Time series analysis. The [AutoTS library](https://pypi.org/project/AutoTS/) in Python is one of the best libraries for time series analysis, designed for rapidly deploying high-accuracy forecasts at scale. So here I will be using the AutoTS library to predict the bitcoin prices for the next 30 days"
   ]
  },
  {
   "cell_type": "code",
   "execution_count": null,
   "id": "25fec219-a5b4-45fb-b16f-83c6900a76c3",
   "metadata": {},
   "outputs": [],
   "source": [
    "from autots import AutoTS\n",
    "\n",
    "model = AutoTS(\n",
    "    forecast_length=30, \n",
    "    frequency='infer', \n",
    "    ensemble='simple',\n",
    "    model_list=\"default\" # \"fast\", \"superfast\", \"fast_parallel\"\n",
    ")\n",
    "model = model.fit(\n",
    "    data, \n",
    "    date_col='Date', \n",
    "    value_col='Close', \n",
    "    id_col=None\n",
    ")\n",
    "\n",
    "prediction = model.predict()\n",
    "forecast = prediction.forecast\n",
    "\n",
    "print(forecast)"
   ]
  },
  {
   "cell_type": "markdown",
   "id": "506b99fb-0ac7-47f5-83f3-25d9a0ddfe54",
   "metadata": {},
   "source": [
    "After a good run time to analyze all the data we embedded, the final result of the model will return something like the following image format (result of my execution on 04/21/2022)\n",
    "\n",
    "![](posts_images/crypto1.png)\n",
    "\n",
    "But always keep in mind: Buying and selling result in a change in the price of any cryptocurrency, but buying and selling trends depend on many factors! Using machine learning for cryptocurrency price prediction can only work in situations where prices change due to historical pr ices that people see before buying and selling their cryptocurrency which is an educational assumption that we took in this project with the aim of achieving a better understanding of the tools used here \n",
    "\n"
   ]
  },
  {
   "cell_type": "markdown",
   "id": "ead54e09-49e8-4cd1-894a-c8aef0ac3c0f",
   "metadata": {},
   "source": [
    "Keep in mind that we can also speed up our process by selecting more efficient/simplified ways of learning within the autoTS library, as I suggested in the code comment above. Just by changing the learning mode from \"default\" to \"fast\", we see an absurd addition of functionality in terms of training time and plotted result, but with a large variation in the outcome results, as can be seen below"
   ]
  },
  {
   "cell_type": "markdown",
   "id": "4af037ae-2b7b-4aab-abf1-6a7f272b85ec",
   "metadata": {},
   "source": [
    "![](posts_images/crypto2.png)"
   ]
  },
  {
   "cell_type": "markdown",
   "id": "387d0d00-7682-4a90-9bf1-556d371b536d",
   "metadata": {},
   "source": [
    "## Last tips for Speed and Large Data "
   ]
  },
  {
   "cell_type": "markdown",
   "id": "251648c6-8bb7-411b-93d1-c0711c3dc8c4",
   "metadata": {},
   "source": [
    " * Use appropriate model lists, especially the predefined lists:\n",
    " \n",
    "     * `superfast` (simple naive models) and `fast` (more complex but still faster models, optimized for many series)\n",
    "     * `fast_parallel` (a combination of fast and parallel) or `parallel`, given many CPU cores are available \n",
    "     * see a dict of predefined lists (some defined for internal use) with `from autots.models.model_list import model_lists`\n",
    "     \n",
    " * Use the `subset` parameter when there are many similar series, `subset=100` will often generalize well for tens of thousands of similar series. \n",
    " \n",
    "     * If using `subset`, passing `weights` for series will weight subset selection towards higher priority series. \n",
    "     * if limited by RAM, it can be distributed by running multiple instances of AutoTS on different batches of data, having first imported a template pretrained as a starting point for all.\n",
    "     \n",
    " * For datasets with many records, upsampling (for example, from daily to monthly frequency forecasts) can reduce training time if appropriate.     \n",
    "     * this can be done by adjusting `frequency` and `aggfunc` but is probably best done before passing data into AutoTS. \n",
    "     \n",
    "     \n",
    " For even more details, check out the [documentation](https://pypi.org/project/AutoTS/) of the librarie "
   ]
  }
 ],
 "metadata": {
  "kernelspec": {
   "display_name": "Python 3 (ipykernel)",
   "language": "python",
   "name": "python3"
  },
  "language_info": {
   "codemirror_mode": {
    "name": "ipython",
    "version": 3
   },
   "file_extension": ".py",
   "mimetype": "text/x-python",
   "name": "python",
   "nbconvert_exporter": "python",
   "pygments_lexer": "ipython3",
   "version": "3.8.8"
  },
  "toc-autonumbering": true,
  "toc-showcode": true,
  "toc-showmarkdowntxt": true
 },
 "nbformat": 4,
 "nbformat_minor": 5
}
